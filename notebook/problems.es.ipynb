{
 "cells": [
  {
   "cell_type": "markdown",
   "id": "a41f3622",
   "metadata": {},
   "source": [
    "# Ejercicios de probabilidad"
   ]
  },
  {
   "cell_type": "code",
   "execution_count": 1,
   "id": "2810e982",
   "metadata": {},
   "outputs": [],
   "source": [
    "import numpy as np"
   ]
  },
  {
   "cell_type": "markdown",
   "id": "a6bdbd89",
   "metadata": {},
   "source": [
    "## Ejercicio 1 \n",
    "\n",
    "Dos dados se lanzan una vez y se observa el total obtenido. Usa una simulación para encontrar la probabilidad estimada de que la puntuación sea mayor a 7 o un número par. Una simulación es una repetición del mismo experimento multiples veces para observar su comportamiento:\n",
    "\n",
    "- Ejecuta el experimento 1000 veces (lanza 2 dados 1000 veces, y suma el número de ambos dados).\n",
    "- Lleva ua cuenta de los números y las veces que la suma fue mayor a 7 o un número par.\n",
    "- Divide el número del paso 2 entre el número de iteraciones(1000)."
   ]
  },
  {
   "cell_type": "code",
   "execution_count": 2,
   "id": "318dbefb",
   "metadata": {},
   "outputs": [
    {
     "data": {
      "text/plain": [
       "{'mayor7': array([ 8,  8,  9,  8,  8,  8,  8,  8, 11,  8, 10, 10,  8, 11, 11,  9,  8,\n",
       "        10,  9, 11, 12,  8,  9,  9, 10,  9, 12,  8,  9, 10,  9,  9,  9,  9,\n",
       "        10,  8, 12, 10,  8, 12,  9,  8,  9,  8, 10, 12, 11, 10, 10,  9,  9,\n",
       "        10, 10,  9, 10, 10, 10, 11, 11, 10, 10,  8,  8, 12,  9,  9,  9, 12,\n",
       "        10,  9, 12, 11,  9,  8,  9, 10,  9,  8,  8,  9, 12,  8,  9, 10,  9,\n",
       "         9, 10,  8,  9, 10,  8, 11, 10, 10,  8, 10,  8,  8,  8,  8,  8,  9,\n",
       "        11,  9, 12, 10,  9,  8,  9,  9,  8,  8,  8,  8, 10, 10,  8, 10,  8,\n",
       "         8,  8,  9, 11, 10,  9, 12, 11,  8,  9,  8, 10,  8,  8,  8, 11, 10,\n",
       "         9, 11, 10, 11, 12, 10, 11,  9,  8,  8,  8,  8, 11, 10, 11, 12,  8,\n",
       "        11,  8,  9,  8,  9,  8,  9,  8,  9, 11, 12, 10, 12,  9,  9, 10,  8,\n",
       "         9, 10,  9,  9,  8,  8, 11,  8,  9, 10,  9, 12,  8,  8,  9, 11, 10,\n",
       "        12, 10,  8,  8,  9, 10, 10,  9,  8,  9, 10, 11,  8, 11,  8,  9,  8,\n",
       "        11, 10,  8,  8, 10,  9,  8,  8, 10, 10, 10,  9,  9,  8,  8,  8,  8,\n",
       "         8, 11,  9,  8,  8,  8,  9,  8,  9, 10,  9,  8, 10,  8,  9, 10, 10,\n",
       "         9,  9, 10,  8, 10,  8,  9, 10,  8,  9, 10, 10,  9, 11,  9,  8,  8,\n",
       "        11, 10,  9,  9, 11,  8, 10,  9, 11,  8,  8, 10,  8,  9,  8, 12,  8,\n",
       "         8, 10,  8, 10,  8,  9, 12, 12,  8,  9, 10,  9,  8, 12,  9,  9,  8,\n",
       "         8,  9,  8, 11,  9, 11,  8,  8, 12,  8, 10,  9, 10,  8, 10, 10, 11,\n",
       "        11,  8,  9, 12, 11,  8,  9, 11, 10,  9,  8, 10,  9,  9,  9, 10,  9,\n",
       "         9,  8,  9,  9,  8,  9,  8, 10,  8,  8, 10,  8,  8, 11, 10, 11,  9,\n",
       "        11,  9, 11,  8,  8,  8,  8,  8, 10,  8,  9,  9, 10,  8,  9,  9,  8,\n",
       "         8, 10, 11, 11,  8, 11, 11,  9, 12, 12,  9, 10,  9,  8,  9, 10, 10,\n",
       "        10,  8,  8, 10, 10,  8,  9,  8,  8, 11, 10,  8,  9,  9,  8, 10,  8,\n",
       "         9,  8,  9,  9, 10,  8, 10,  8,  8,  8,  9, 12, 10, 10, 12, 12, 11,\n",
       "         8,  8, 10,  8,  8, 11,  9,  8,  8]),\n",
       " 'par': array([ 8,  8,  6,  6,  6,  8,  8,  8,  8,  8,  8, 10, 10,  6,  8,  8, 10,\n",
       "         4,  4, 12,  8, 10, 12,  8,  6,  6, 10,  6, 10,  8, 12, 10,  8,  2,\n",
       "        12,  8,  8, 10,  6, 12, 10, 10,  6, 10, 10,  4, 10, 10,  6, 10,  4,\n",
       "         6, 10,  6, 10,  8,  2,  8,  4, 12,  2, 12, 10,  4,  6,  6, 12,  4,\n",
       "         6,  6,  6,  6,  4,  6,  8, 10,  6,  8,  8,  6, 12,  8,  2,  6,  4,\n",
       "        10,  4,  6,  4, 10,  6,  8, 10,  4,  6,  4,  6,  8, 10,  6,  6, 10,\n",
       "         6,  6,  8, 10,  8,  6,  6,  6,  8,  8,  4,  8,  8, 12,  4,  6,  6,\n",
       "         4,  6, 10,  8,  4,  2,  6,  6,  4,  8,  8,  6,  8,  8, 10, 10,  6,\n",
       "         8, 10,  8,  8,  8,  6,  2, 10,  4,  6,  6, 12,  2,  2,  8,  8, 10,\n",
       "         8,  6,  8,  8, 10, 10, 12, 10,  4,  8,  8,  8,  8, 10,  4, 12,  8,\n",
       "         6,  8,  6,  8,  6,  4,  8,  8,  6,  6,  4, 12, 10, 12,  4,  6,  6,\n",
       "         4, 10,  4,  6,  6,  8,  6, 10,  8,  8,  6,  8, 10,  6,  4,  4,  6,\n",
       "        12,  8,  8,  6,  6,  6, 10,  4, 12, 10,  4,  8,  8,  4,  4,  6,  6,\n",
       "        10, 10,  6,  8,  6, 10,  6,  4,  6,  8,  8,  8,  4,  4,  6, 10,  8,\n",
       "         8,  6, 10,  8,  8, 10, 10,  4, 10,  8,  4,  8,  8,  6,  4,  8,  8,\n",
       "         2,  4,  8,  8,  8,  8,  6,  4, 10,  6,  4,  6,  6,  4,  8, 10,  8,\n",
       "         6, 10, 10,  6, 10,  6,  8, 10,  4,  6,  8, 10,  6,  8, 10, 10,  2,\n",
       "         8,  8,  2, 10,  6,  8, 10,  8,  8, 10,  6,  8,  8, 12,  8,  8, 10,\n",
       "         4,  6,  6,  6,  8, 10,  6,  6,  8, 12,  6,  2,  4,  6, 12,  8,  4,\n",
       "        10,  6,  8,  6, 12,  6,  6,  8,  6,  8,  8,  6,  8,  8,  4, 12,  4,\n",
       "         4,  8,  6, 10,  6,  6, 10,  8,  2, 10,  6, 10,  6,  8,  2,  6, 12,\n",
       "         8,  6,  4,  6, 10,  8, 10,  6,  6,  2,  6, 10,  4,  2,  6,  6,  4,\n",
       "         6,  8,  6,  8,  8, 10,  6,  8,  8, 10,  6,  8,  4,  8, 10,  6,  4,\n",
       "         6,  4,  6,  6,  6,  8,  8,  8,  8,  8, 10,  8,  6, 10,  6,  2,  6,\n",
       "         8,  6,  8,  8, 10,  4,  8,  6, 12,  6, 12,  6,  4,  4, 10,  2,  6,\n",
       "         2,  4,  6,  6,  8, 10, 10, 10,  4,  8,  4,  8, 10,  2, 10,  8,  4,\n",
       "         4,  2,  8,  8,  4,  4,  6, 10,  8,  4,  6,  8, 10,  6,  8,  8,  4,\n",
       "         4, 10,  2,  4,  8, 10,  4,  6,  4,  6,  8,  8,  8, 12,  6, 10, 10,\n",
       "        12, 12,  8,  8, 10,  8,  6,  4,  6,  8,  6,  8,  8]),\n",
       " 'lanzamiento >7': 417,\n",
       " 'lanzamiento_par': 489}"
      ]
     },
     "execution_count": 2,
     "metadata": {},
     "output_type": "execute_result"
    }
   ],
   "source": [
    "lanzamiento = 1000\n",
    "dado1 = np.random.randint(1, 7, lanzamiento)\n",
    "dado2 = np.random.randint(1, 7, lanzamiento)\n",
    "suma_dados = dado1 + dado2\n",
    "mayor7_par = {'mayor7': suma_dados[suma_dados > 7],\n",
    "              'par': suma_dados[suma_dados %2 == 0],\n",
    "              'lanzamiento >7': len(suma_dados[suma_dados > 7]),\n",
    "              'lanzamiento_par': len(suma_dados[suma_dados %2 == 0]) \n",
    "\n",
    "}\n",
    "mayor7_par\n",
    "\n",
    "\n",
    "\n"
   ]
  },
  {
   "cell_type": "code",
   "execution_count": 3,
   "id": "8939d892",
   "metadata": {},
   "outputs": [],
   "source": [
    "# TODO - comienza mi codigo \n",
    "\n",
    "def simular_lanzamientos(n):\n",
    "    exitos = 0\n",
    "    for _ in range(n):\n",
    "        dado1 = random.randint(1, 6)\n",
    "        dado2 = random.randint(1, 6)\n",
    "        suma = dado1 + dado2\n",
    "        if suma > 7 or suma % 2 == 0:\n",
    "            exitos += 1\n",
    "    return exitos / n"
   ]
  },
  {
   "cell_type": "markdown",
   "id": "55732bca",
   "metadata": {},
   "source": [
    "## Ejercicio 2\n",
    "\n",
    "Una caja contiene 10 bolas blancas, 20 bolas rojas y 30 bolas verdes. Si tomamos 5 bolas de la caja reemplazándolas (tomando una bola, anotando el color y luego regresandola a la caja). Queremos saber la probabilidad de:\n",
    "\n",
    "1. Tomar 3 blancas y 2 rojas.\n",
    "2. Toas todas del mismo color.\n",
    "\n",
    "Ejecuta el experimento 1000 veces y calcula las probabilidades que mencionadas."
   ]
  },
  {
   "cell_type": "code",
   "execution_count": 4,
   "id": "f4612533",
   "metadata": {},
   "outputs": [
    {
     "data": {
      "text/plain": [
       "{'proba_blanca': 0.17, 'proba_roja': 0.33, 'proba_verde': 0.5}"
      ]
     },
     "execution_count": 4,
     "metadata": {},
     "output_type": "execute_result"
    }
   ],
   "source": [
    "experimento = 1000\n",
    "probabilidad = {'proba_blanca': round((10/60)  , 2),\n",
    "                'proba_roja': round((20/60) , 2),\n",
    "                'proba_verde': round((30/60) , 2)\n",
    "}\n",
    "probabilidad"
   ]
  },
  {
   "cell_type": "code",
   "execution_count": 5,
   "id": "92108c04",
   "metadata": {},
   "outputs": [
    {
     "data": {
      "text/plain": [
       "2000"
      ]
     },
     "execution_count": 5,
     "metadata": {},
     "output_type": "execute_result"
    }
   ],
   "source": [
    "probabilidad_blanca = experimento * 2\n",
    "probabilidad_blanca"
   ]
  },
  {
   "cell_type": "code",
   "execution_count": 6,
   "id": "23244d20",
   "metadata": {},
   "outputs": [
    {
     "data": {
      "text/plain": [
       "{0: 'White',\n",
       " 1: 'White',\n",
       " 2: 'White',\n",
       " 3: 'White',\n",
       " 4: 'White',\n",
       " 5: 'White',\n",
       " 6: 'White',\n",
       " 7: 'White',\n",
       " 8: 'White',\n",
       " 9: 'White',\n",
       " 10: 'Red',\n",
       " 11: 'Red',\n",
       " 12: 'Red',\n",
       " 13: 'Red',\n",
       " 14: 'Red',\n",
       " 15: 'Red',\n",
       " 16: 'Red',\n",
       " 17: 'Red',\n",
       " 18: 'Red',\n",
       " 19: 'Red',\n",
       " 20: 'Red',\n",
       " 21: 'Red',\n",
       " 22: 'Red',\n",
       " 23: 'Red',\n",
       " 24: 'Red',\n",
       " 25: 'Red',\n",
       " 26: 'Red',\n",
       " 27: 'Red',\n",
       " 28: 'Red',\n",
       " 29: 'Red',\n",
       " 30: 'Green',\n",
       " 31: 'Green',\n",
       " 32: 'Green',\n",
       " 33: 'Green',\n",
       " 34: 'Green',\n",
       " 35: 'Green',\n",
       " 36: 'Green',\n",
       " 37: 'Green',\n",
       " 38: 'Green',\n",
       " 39: 'Green',\n",
       " 40: 'Green',\n",
       " 41: 'Green',\n",
       " 42: 'Green',\n",
       " 43: 'Green',\n",
       " 44: 'Green',\n",
       " 45: 'Green',\n",
       " 46: 'Green',\n",
       " 47: 'Green',\n",
       " 48: 'Green',\n",
       " 49: 'Green',\n",
       " 50: 'Green',\n",
       " 51: 'Green',\n",
       " 52: 'Green',\n",
       " 53: 'Green',\n",
       " 54: 'Green',\n",
       " 55: 'Green',\n",
       " 56: 'Green',\n",
       " 57: 'Green',\n",
       " 58: 'Green',\n",
       " 59: 'Green'}"
      ]
     },
     "execution_count": 6,
     "metadata": {},
     "output_type": "execute_result"
    }
   ],
   "source": [
    "ball_box = {}\n",
    "\n",
    "# Crea la cajas con las bolas\n",
    "for i in range(60):\n",
    "    if i < 10:\n",
    "        ball_box[i] = \"White\"\n",
    "    elif (i > 9) and (i < 30):\n",
    "        ball_box[i] = \"Red\"\n",
    "    else:\n",
    "        ball_box[i] = \"Green\"\n",
    "\n",
    "\n",
    "            \n",
    "ball_box"
   ]
  },
  {
   "cell_type": "code",
   "execution_count": null,
   "id": "5c153eee",
   "metadata": {},
   "outputs": [
    {
     "name": "stdout",
     "output_type": "stream",
     "text": [
      "\n",
      "Resultados después de 1000 simulaciones:\n",
      "Eventos con 3 blancas y 2 rojas: 8\n",
      "Eventos con todas las bolas del mismo color: 29\n"
     ]
    }
   ],
   "source": [
    "# tengo que generar una simulacion de 1000 eventos \n",
    "# en cada evento tengo que elegir cinco bolas\n",
    "# verificar si de esas 5 bolas obtuve :\n",
    "#     1. Tomar 3 blancas y 2 rojas.\n",
    "#     2. Toas todas del mismo color.\n",
    "\n",
    "simular = 1000\n",
    "probabilidades = {'White_Red': 0, 'Full_Color': 0}\n",
    "for _ in range(0, simular):\n",
    "    simulacion = {'Green': 0, 'Red': 0, 'White': 0}\n",
    "    for bolas in range(0, 5):\n",
    "        indice = np.random.randint(0, 60)\n",
    "        color = ball_box[indice]\n",
    "        simulacion[color] += 1 \n",
    "    if simulacion['White'] == 3 and simulacion['Red'] == 2:\n",
    "        probabilidades['White_Red'] += 1\n",
    "    if 5 in simulacion.values():\n",
    "        probabilidades['Full_Color'] += 1\n",
    "\n",
    "print(f\"\\nResultados después de {simular} simulaciones:\")\n",
    "print(f\"Eventos con 3 blancas y 2 rojas: {probabilidades['White_Red']}\")\n",
    "print(f\"Eventos con todas las bolas del mismo color: {probabilidades['Full_Color']}\")\n",
    "        \n",
    "        \n"
   ]
  },
  {
   "cell_type": "code",
   "execution_count": null,
   "id": "999bb3e8",
   "metadata": {},
   "outputs": [],
   "source": []
  }
 ],
 "metadata": {
  "kernelspec": {
   "display_name": "Python 3",
   "language": "python",
   "name": "python3"
  },
  "language_info": {
   "codemirror_mode": {
    "name": "ipython",
    "version": 3
   },
   "file_extension": ".py",
   "mimetype": "text/x-python",
   "name": "python",
   "nbconvert_exporter": "python",
   "pygments_lexer": "ipython3",
   "version": "3.11.4"
  }
 },
 "nbformat": 4,
 "nbformat_minor": 5
}
